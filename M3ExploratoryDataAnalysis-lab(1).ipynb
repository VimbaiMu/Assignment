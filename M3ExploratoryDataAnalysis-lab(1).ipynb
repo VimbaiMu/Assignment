{
 "cells": [
  {
   "cell_type": "markdown",
   "metadata": {},
   "source": [
    "<p style=\"text-align:center\">\n",
    "    <a href=\"https://skills.network/?utm_medium=Exinfluencer&utm_source=Exinfluencer&utm_content=000026UJ&utm_term=10006555&utm_id=NA-SkillsNetwork-Channel-SkillsNetworkCoursesIBMDA0321ENSkillsNetwork928-2023-01-01\">\n",
    "    <img src=\"https://cf-courses-data.s3.us.cloud-object-storage.appdomain.cloud/assets/logos/SN_web_lightmode.png\" width=\"200\" alt=\"Skills Network Logo\"  />\n",
    "    </a>\n",
    "</p>\n"
   ]
  },
  {
   "cell_type": "markdown",
   "metadata": {},
   "source": [
    "# **Exploratory Data Analysis Lab**\n"
   ]
  },
  {
   "cell_type": "markdown",
   "metadata": {},
   "source": [
    "Estimated time needed: **30** minutes\n"
   ]
  },
  {
   "cell_type": "markdown",
   "metadata": {},
   "source": [
    "In this module you get to work with the cleaned dataset from the previous module.\n",
    "\n",
    "In this assignment you will perform the task of exploratory data analysis.\n",
    "You will find out the distribution of data, presence of outliers and also determine the correlation between different columns in the dataset.\n"
   ]
  },
  {
   "cell_type": "markdown",
   "metadata": {},
   "source": [
    "## Objectives\n"
   ]
  },
  {
   "cell_type": "markdown",
   "metadata": {},
   "source": [
    "In this lab you will perform the following:\n"
   ]
  },
  {
   "cell_type": "markdown",
   "metadata": {},
   "source": [
    "-   Identify the distribution of data in the dataset.\n",
    "\n",
    "-   Identify outliers in the dataset.\n",
    "\n",
    "-   Remove outliers from the dataset.\n",
    "\n",
    "-   Identify correlation between features in the dataset.\n"
   ]
  },
  {
   "cell_type": "markdown",
   "metadata": {},
   "source": [
    "* * *\n"
   ]
  },
  {
   "cell_type": "markdown",
   "metadata": {},
   "source": [
    "## Hands on Lab\n"
   ]
  },
  {
   "cell_type": "markdown",
   "metadata": {},
   "source": [
    "Import the pandas module.\n"
   ]
  },
  {
   "cell_type": "code",
   "execution_count": 1,
   "metadata": {
    "tags": []
   },
   "outputs": [],
   "source": [
    "import pandas as pd\n"
   ]
  },
  {
   "cell_type": "markdown",
   "metadata": {},
   "source": [
    "Load the dataset into a dataframe.\n"
   ]
  },
  {
   "cell_type": "code",
   "execution_count": 2,
   "metadata": {
    "tags": []
   },
   "outputs": [],
   "source": [
    "df = pd.read_csv(\"https://cf-courses-data.s3.us.cloud-object-storage.appdomain.cloud/IBM-DA0321EN-SkillsNetwork/LargeData/m2_survey_data.csv\")"
   ]
  },
  {
   "cell_type": "code",
   "execution_count": 8,
   "metadata": {
    "tags": []
   },
   "outputs": [
    {
     "data": {
      "text/html": [
       "<div>\n",
       "<style scoped>\n",
       "    .dataframe tbody tr th:only-of-type {\n",
       "        vertical-align: middle;\n",
       "    }\n",
       "\n",
       "    .dataframe tbody tr th {\n",
       "        vertical-align: top;\n",
       "    }\n",
       "\n",
       "    .dataframe thead th {\n",
       "        text-align: right;\n",
       "    }\n",
       "</style>\n",
       "<table border=\"1\" class=\"dataframe\">\n",
       "  <thead>\n",
       "    <tr style=\"text-align: right;\">\n",
       "      <th></th>\n",
       "      <th>Respondent</th>\n",
       "      <th>MainBranch</th>\n",
       "      <th>Hobbyist</th>\n",
       "      <th>OpenSourcer</th>\n",
       "      <th>OpenSource</th>\n",
       "      <th>Employment</th>\n",
       "      <th>Country</th>\n",
       "      <th>Student</th>\n",
       "      <th>EdLevel</th>\n",
       "      <th>UndergradMajor</th>\n",
       "      <th>...</th>\n",
       "      <th>WelcomeChange</th>\n",
       "      <th>SONewContent</th>\n",
       "      <th>Age</th>\n",
       "      <th>Gender</th>\n",
       "      <th>Trans</th>\n",
       "      <th>Sexuality</th>\n",
       "      <th>Ethnicity</th>\n",
       "      <th>Dependents</th>\n",
       "      <th>SurveyLength</th>\n",
       "      <th>SurveyEase</th>\n",
       "    </tr>\n",
       "  </thead>\n",
       "  <tbody>\n",
       "    <tr>\n",
       "      <th>0</th>\n",
       "      <td>4</td>\n",
       "      <td>I am a developer by profession</td>\n",
       "      <td>No</td>\n",
       "      <td>Never</td>\n",
       "      <td>The quality of OSS and closed source software ...</td>\n",
       "      <td>Employed full-time</td>\n",
       "      <td>United States</td>\n",
       "      <td>No</td>\n",
       "      <td>Bachelor’s degree (BA, BS, B.Eng., etc.)</td>\n",
       "      <td>Computer science, computer engineering, or sof...</td>\n",
       "      <td>...</td>\n",
       "      <td>Just as welcome now as I felt last year</td>\n",
       "      <td>Tech articles written by other developers;Indu...</td>\n",
       "      <td>22.0</td>\n",
       "      <td>Man</td>\n",
       "      <td>No</td>\n",
       "      <td>Straight / Heterosexual</td>\n",
       "      <td>White or of European descent</td>\n",
       "      <td>No</td>\n",
       "      <td>Appropriate in length</td>\n",
       "      <td>Easy</td>\n",
       "    </tr>\n",
       "    <tr>\n",
       "      <th>1</th>\n",
       "      <td>9</td>\n",
       "      <td>I am a developer by profession</td>\n",
       "      <td>Yes</td>\n",
       "      <td>Once a month or more often</td>\n",
       "      <td>The quality of OSS and closed source software ...</td>\n",
       "      <td>Employed full-time</td>\n",
       "      <td>New Zealand</td>\n",
       "      <td>No</td>\n",
       "      <td>Some college/university study without earning ...</td>\n",
       "      <td>Computer science, computer engineering, or sof...</td>\n",
       "      <td>...</td>\n",
       "      <td>Just as welcome now as I felt last year</td>\n",
       "      <td>NaN</td>\n",
       "      <td>23.0</td>\n",
       "      <td>Man</td>\n",
       "      <td>No</td>\n",
       "      <td>Bisexual</td>\n",
       "      <td>White or of European descent</td>\n",
       "      <td>No</td>\n",
       "      <td>Appropriate in length</td>\n",
       "      <td>Neither easy nor difficult</td>\n",
       "    </tr>\n",
       "    <tr>\n",
       "      <th>2</th>\n",
       "      <td>13</td>\n",
       "      <td>I am a developer by profession</td>\n",
       "      <td>Yes</td>\n",
       "      <td>Less than once a month but more than once per ...</td>\n",
       "      <td>OSS is, on average, of HIGHER quality than pro...</td>\n",
       "      <td>Employed full-time</td>\n",
       "      <td>United States</td>\n",
       "      <td>No</td>\n",
       "      <td>Master’s degree (MA, MS, M.Eng., MBA, etc.)</td>\n",
       "      <td>Computer science, computer engineering, or sof...</td>\n",
       "      <td>...</td>\n",
       "      <td>Somewhat more welcome now than last year</td>\n",
       "      <td>Tech articles written by other developers;Cour...</td>\n",
       "      <td>28.0</td>\n",
       "      <td>Man</td>\n",
       "      <td>No</td>\n",
       "      <td>Straight / Heterosexual</td>\n",
       "      <td>White or of European descent</td>\n",
       "      <td>Yes</td>\n",
       "      <td>Appropriate in length</td>\n",
       "      <td>Easy</td>\n",
       "    </tr>\n",
       "    <tr>\n",
       "      <th>3</th>\n",
       "      <td>16</td>\n",
       "      <td>I am a developer by profession</td>\n",
       "      <td>Yes</td>\n",
       "      <td>Never</td>\n",
       "      <td>The quality of OSS and closed source software ...</td>\n",
       "      <td>Employed full-time</td>\n",
       "      <td>United Kingdom</td>\n",
       "      <td>No</td>\n",
       "      <td>Master’s degree (MA, MS, M.Eng., MBA, etc.)</td>\n",
       "      <td>NaN</td>\n",
       "      <td>...</td>\n",
       "      <td>Just as welcome now as I felt last year</td>\n",
       "      <td>Tech articles written by other developers;Indu...</td>\n",
       "      <td>26.0</td>\n",
       "      <td>Man</td>\n",
       "      <td>No</td>\n",
       "      <td>Straight / Heterosexual</td>\n",
       "      <td>White or of European descent</td>\n",
       "      <td>No</td>\n",
       "      <td>Appropriate in length</td>\n",
       "      <td>Neither easy nor difficult</td>\n",
       "    </tr>\n",
       "    <tr>\n",
       "      <th>4</th>\n",
       "      <td>17</td>\n",
       "      <td>I am a developer by profession</td>\n",
       "      <td>Yes</td>\n",
       "      <td>Less than once a month but more than once per ...</td>\n",
       "      <td>The quality of OSS and closed source software ...</td>\n",
       "      <td>Employed full-time</td>\n",
       "      <td>Australia</td>\n",
       "      <td>No</td>\n",
       "      <td>Bachelor’s degree (BA, BS, B.Eng., etc.)</td>\n",
       "      <td>Computer science, computer engineering, or sof...</td>\n",
       "      <td>...</td>\n",
       "      <td>Just as welcome now as I felt last year</td>\n",
       "      <td>Tech articles written by other developers;Indu...</td>\n",
       "      <td>29.0</td>\n",
       "      <td>Man</td>\n",
       "      <td>No</td>\n",
       "      <td>Straight / Heterosexual</td>\n",
       "      <td>Hispanic or Latino/Latina;Multiracial</td>\n",
       "      <td>No</td>\n",
       "      <td>Appropriate in length</td>\n",
       "      <td>Easy</td>\n",
       "    </tr>\n",
       "  </tbody>\n",
       "</table>\n",
       "<p>5 rows × 85 columns</p>\n",
       "</div>"
      ],
      "text/plain": [
       "   Respondent                      MainBranch Hobbyist  \\\n",
       "0           4  I am a developer by profession       No   \n",
       "1           9  I am a developer by profession      Yes   \n",
       "2          13  I am a developer by profession      Yes   \n",
       "3          16  I am a developer by profession      Yes   \n",
       "4          17  I am a developer by profession      Yes   \n",
       "\n",
       "                                         OpenSourcer  \\\n",
       "0                                              Never   \n",
       "1                         Once a month or more often   \n",
       "2  Less than once a month but more than once per ...   \n",
       "3                                              Never   \n",
       "4  Less than once a month but more than once per ...   \n",
       "\n",
       "                                          OpenSource          Employment  \\\n",
       "0  The quality of OSS and closed source software ...  Employed full-time   \n",
       "1  The quality of OSS and closed source software ...  Employed full-time   \n",
       "2  OSS is, on average, of HIGHER quality than pro...  Employed full-time   \n",
       "3  The quality of OSS and closed source software ...  Employed full-time   \n",
       "4  The quality of OSS and closed source software ...  Employed full-time   \n",
       "\n",
       "          Country Student                                            EdLevel  \\\n",
       "0   United States      No           Bachelor’s degree (BA, BS, B.Eng., etc.)   \n",
       "1     New Zealand      No  Some college/university study without earning ...   \n",
       "2   United States      No        Master’s degree (MA, MS, M.Eng., MBA, etc.)   \n",
       "3  United Kingdom      No        Master’s degree (MA, MS, M.Eng., MBA, etc.)   \n",
       "4       Australia      No           Bachelor’s degree (BA, BS, B.Eng., etc.)   \n",
       "\n",
       "                                      UndergradMajor  ...  \\\n",
       "0  Computer science, computer engineering, or sof...  ...   \n",
       "1  Computer science, computer engineering, or sof...  ...   \n",
       "2  Computer science, computer engineering, or sof...  ...   \n",
       "3                                                NaN  ...   \n",
       "4  Computer science, computer engineering, or sof...  ...   \n",
       "\n",
       "                              WelcomeChange  \\\n",
       "0   Just as welcome now as I felt last year   \n",
       "1   Just as welcome now as I felt last year   \n",
       "2  Somewhat more welcome now than last year   \n",
       "3   Just as welcome now as I felt last year   \n",
       "4   Just as welcome now as I felt last year   \n",
       "\n",
       "                                        SONewContent   Age Gender Trans  \\\n",
       "0  Tech articles written by other developers;Indu...  22.0    Man    No   \n",
       "1                                                NaN  23.0    Man    No   \n",
       "2  Tech articles written by other developers;Cour...  28.0    Man    No   \n",
       "3  Tech articles written by other developers;Indu...  26.0    Man    No   \n",
       "4  Tech articles written by other developers;Indu...  29.0    Man    No   \n",
       "\n",
       "                 Sexuality                              Ethnicity Dependents  \\\n",
       "0  Straight / Heterosexual           White or of European descent         No   \n",
       "1                 Bisexual           White or of European descent         No   \n",
       "2  Straight / Heterosexual           White or of European descent        Yes   \n",
       "3  Straight / Heterosexual           White or of European descent         No   \n",
       "4  Straight / Heterosexual  Hispanic or Latino/Latina;Multiracial         No   \n",
       "\n",
       "            SurveyLength                  SurveyEase  \n",
       "0  Appropriate in length                        Easy  \n",
       "1  Appropriate in length  Neither easy nor difficult  \n",
       "2  Appropriate in length                        Easy  \n",
       "3  Appropriate in length  Neither easy nor difficult  \n",
       "4  Appropriate in length                        Easy  \n",
       "\n",
       "[5 rows x 85 columns]"
      ]
     },
     "execution_count": 8,
     "metadata": {},
     "output_type": "execute_result"
    }
   ],
   "source": [
    "df.head()"
   ]
  },
  {
   "cell_type": "markdown",
   "metadata": {},
   "source": [
    "## Distribution\n"
   ]
  },
  {
   "cell_type": "markdown",
   "metadata": {},
   "source": [
    "### Determine how the data is distributed\n"
   ]
  },
  {
   "cell_type": "markdown",
   "metadata": {},
   "source": [
    "The column `ConvertedComp` contains Salary converted to annual USD salaries using the exchange rate on 2019-02-01.\n",
    "\n",
    "This assumes 12 working months and 50 working weeks.\n"
   ]
  },
  {
   "cell_type": "markdown",
   "metadata": {},
   "source": [
    "Plot the distribution curve for the column `ConvertedComp`.\n"
   ]
  },
  {
   "cell_type": "code",
   "execution_count": 9,
   "metadata": {
    "tags": []
   },
   "outputs": [
    {
     "data": {
      "image/png": "[encoded data removed]",
      "text/plain": [
       "<Figure size 1000x600 with 1 Axes>"
      ]
     },
     "metadata": {},
     "output_type": "display_data"
    }
   ],
   "source": [
    "import matplotlib.pyplot as plt\n",
    "\n",
    "# Plot the distribution curve\n",
    "plt.figure(figsize=(10, 6))  # Set the figure size\n",
    "plt.hist(df['ConvertedComp'], bins=50, color='skyblue', edgecolor='black')  # Create a histogram\n",
    "plt.title('Distribution of Converted Compensation')  # Set the title\n",
    "plt.xlabel('Converted Compensation (USD)')  # Set the x-axis label\n",
    "plt.ylabel('Frequency')  # Set the y-axis label\n",
    "\n",
    "# Show the plot\n",
    "plt.show()\n",
    "\n",
    "\n"
   ]
  },
  {
   "cell_type": "code",
   "execution_count": 28,
   "metadata": {
    "tags": []
   },
   "outputs": [
    {
     "name": "stdout",
     "output_type": "stream",
     "text": [
      "Median Age of survey respondents: 29.0\n"
     ]
    }
   ],
   "source": [
    "median_age = df['Age'].median()\n",
    "\n",
    "print(\"Median Age of survey respondents:\", median_age)"
   ]
  },
  {
   "cell_type": "code",
   "execution_count": 33,
   "metadata": {
    "tags": []
   },
   "outputs": [
    {
     "data": {
      "image/png": "[encoded data removed]",
      "text/plain": [
       "<Figure size 800x600 with 1 Axes>"
      ]
     },
     "metadata": {},
     "output_type": "display_data"
    },
    {
     "name": "stdout",
     "output_type": "stream",
     "text": [
      "Number of outliers below Q1 in the 'Age' column: 2096\n"
     ]
    }
   ],
   "source": [
    "import seaborn as sns\n",
    "import matplotlib.pyplot as plt\n",
    "\n",
    "# Assuming df is your DataFrame\n",
    "plt.figure(figsize=(8, 6))\n",
    "\n",
    "# Create a box plot for Age\n",
    "sns.boxplot(x=df['Age'])\n",
    "\n",
    "plt.title('Box Plot of Age')\n",
    "plt.xlabel('Age')\n",
    "\n",
    "# Display the plot\n",
    "plt.show()\n",
    "\n",
    "# Identify the value of Q1\n",
    "q1 = df['Age'].quantile(0.25)\n",
    "\n",
    "# Count the number of outliers below Q1\n",
    "outliers_below_q1 = df[df['Age'] < q1]\n",
    "num_outliers_below_q1 = outliers_below_q1.shape[0]\n",
    "\n",
    "print(\"Number of outliers below Q1 in the 'Age' column:\", num_outliers_below_q1)\n"
   ]
  },
  {
   "cell_type": "markdown",
   "metadata": {},
   "source": [
    "Plot the histogram for the column `ConvertedComp`.\n"
   ]
  },
  {
   "cell_type": "code",
   "execution_count": 10,
   "metadata": {
    "tags": []
   },
   "outputs": [
    {
     "data": {
      "image/png": "[encoded data removed]",
      "text/plain": [
       "<Figure size 1000x600 with 1 Axes>"
      ]
     },
     "metadata": {},
     "output_type": "display_data"
    }
   ],
   "source": [
    "# your code goes here\n",
    "# Plot the histogram\n",
    "plt.figure(figsize=(10, 6))  # Set the figure size\n",
    "plt.hist(df['ConvertedComp'], bins=30, color='skyblue', edgecolor='black')  # Create the histogram\n",
    "plt.title('Histogram of Converted Compensation')  # Set the title\n",
    "plt.xlabel('Converted Compensation (USD)')  # Set the x-axis label\n",
    "plt.ylabel('Frequency')  # Set the y-axis label\n",
    "\n",
    "# Show the plot\n",
    "plt.show()\n"
   ]
  },
  {
   "cell_type": "markdown",
   "metadata": {},
   "source": [
    "What is the median of the column `ConvertedComp`?\n"
   ]
  },
  {
   "cell_type": "code",
   "execution_count": 12,
   "metadata": {
    "tags": []
   },
   "outputs": [
    {
     "name": "stdout",
     "output_type": "stream",
     "text": [
      "The median salary in 'ConvertedComp' column is: 57745.00 USD\n"
     ]
    }
   ],
   "source": [
    "# your code goes here\n",
    "# Calculate the median of the 'ConvertedComp' column\n",
    "median_salary = df['ConvertedComp'].median()\n",
    "\n",
    "# Print the median\n",
    "print(f\"The median salary in 'ConvertedComp' column is: {median_salary:.2f} USD\")\n"
   ]
  },
  {
   "cell_type": "markdown",
   "metadata": {},
   "source": [
    "How many responders identified themselves only as a **Man**?\n"
   ]
  },
  {
   "cell_type": "code",
   "execution_count": 14,
   "metadata": {
    "tags": []
   },
   "outputs": [
    {
     "name": "stdout",
     "output_type": "stream",
     "text": [
      "The number of responders who identified themselves only as a Man: 10480\n"
     ]
    }
   ],
   "source": [
    "\n",
    "\n",
    "man_responses = df[df['Gender'] == 'Man']\n",
    "\n",
    "# Count the number of rows in the filtered DataFrame\n",
    "count_man_responses = man_responses.shape[0]\n",
    "\n",
    "# Print the result\n",
    "print(f\"The number of responders who identified themselves only as a Man: {count_man_responses}\")\n"
   ]
  },
  {
   "cell_type": "markdown",
   "metadata": {},
   "source": [
    "Find out the median ConvertedComp of responders identified themselves only as a Woman?\n"
   ]
  },
  {
   "cell_type": "code",
   "execution_count": 31,
   "metadata": {
    "tags": []
   },
   "outputs": [
    {
     "name": "stdout",
     "output_type": "stream",
     "text": [
      "731\n"
     ]
    }
   ],
   "source": [
    "\n",
    "# Filter the DataFrame to select rows where Gender is 'Woman'\n",
    "# your code goes here\n",
    "#median_comp_woman = df[df['Gender'] == 'Woman']['ConvertedComp'].median()\n",
    "#print(median_comp_woman)\n",
    "df2=df.loc[df['Gender']=='Woman']\n",
    "print(df['Gender'].tolist().count('Woman'))  \n",
    "\n",
    "\n",
    "\n",
    "\n"
   ]
  },
  {
   "cell_type": "markdown",
   "metadata": {},
   "source": [
    "Give the five number summary for the column `Age`?\n"
   ]
  },
  {
   "cell_type": "markdown",
   "metadata": {},
   "source": [
    "**Double click here for hint**.\n",
    "\n",
    "<!--\n",
    "min,q1,median,q3,max of a column are its five number summary.\n",
    "-->\n"
   ]
  },
  {
   "cell_type": "code",
   "execution_count": 19,
   "metadata": {
    "tags": []
   },
   "outputs": [
    {
     "name": "stdout",
     "output_type": "stream",
     "text": [
      "Minimum Age: 16.0\n",
      "Median Age: nan\n",
      "Maximum Age: 99.0\n"
     ]
    }
   ],
   "source": [
    "# your code goes here\n",
    "import numpy as np\n",
    "\n",
    "# Calculate the five-number summary for the 'Age' column\n",
    "min_age = np.min(df['Age'])\n",
    "q1_age = np.percentile(df['Age'], 25)\n",
    "median_age = np.median(df['Age'])  # Calculate the median manually\n",
    "q3_age = np.percentile(df['Age'], 75)\n",
    "max_age = np.max(df['Age'])\n",
    "\n",
    "# Print the result\n",
    "print(f\"Minimum Age: {min_age}\")\n",
    "print(f\"Median Age: {median_age}\")\n",
    "print(f\"Maximum Age: {max_age}\")"
   ]
  },
  {
   "cell_type": "markdown",
   "metadata": {},
   "source": [
    "Plot a histogram of the column `Age`.\n"
   ]
  },
  {
   "cell_type": "code",
   "execution_count": 21,
   "metadata": {
    "tags": []
   },
   "outputs": [
    {
     "data": {
      "image/png": "[encoded data removed]",
      "text/plain": [
       "<Figure size 1000x600 with 1 Axes>"
      ]
     },
     "metadata": {},
     "output_type": "display_data"
    }
   ],
   "source": [
    "# your code goes here\n",
    "plt.figure(figsize=(10, 6))  # Set the figure size\n",
    "plt.hist(df['Age'], bins=30, color='skyblue', edgecolor='black')  # Create the histogram\n",
    "plt.title('Histogram of Age')\n",
    "plt.xlabel('Age')  # Set the x-axis label\n",
    "plt.ylabel('Frequency')  # Set the y-axis label\n",
    "\n",
    "# Show the plot\n",
    "plt.show()\n"
   ]
  },
  {
   "cell_type": "markdown",
   "metadata": {},
   "source": [
    "## Outliers\n"
   ]
  },
  {
   "cell_type": "markdown",
   "metadata": {},
   "source": [
    "### Finding outliers\n"
   ]
  },
  {
   "cell_type": "markdown",
   "metadata": {},
   "source": [
    "Find out if outliers exist in the column `ConvertedComp` using a box plot?\n"
   ]
  },
  {
   "cell_type": "code",
   "execution_count": 22,
   "metadata": {
    "tags": []
   },
   "outputs": [
    {
     "data": {
      "image/png": "[encoded data removed]",
      "text/plain": [
       "<Figure size 1000x600 with 1 Axes>"
      ]
     },
     "metadata": {},
     "output_type": "display_data"
    }
   ],
   "source": [
    "# your code goes here\n",
    "import seaborn as sns\n",
    "import matplotlib.pyplot as plt\n",
    "\n",
    "# Assuming df is your DataFrame\n",
    "plt.figure(figsize=(10, 6))\n",
    "\n",
    "# Create a box plot for ConvertedComp\n",
    "sns.boxplot(x=df['ConvertedComp'])\n",
    "\n",
    "plt.title('Box Plot of ConvertedComp')\n",
    "plt.xlabel('ConvertedComp')\n",
    "plt.show()\n",
    "\n"
   ]
  },
  {
   "cell_type": "markdown",
   "metadata": {},
   "source": [
    "Find out the Inter Quartile Range for the column `ConvertedComp`.\n"
   ]
  },
  {
   "cell_type": "code",
   "execution_count": 23,
   "metadata": {
    "tags": []
   },
   "outputs": [
    {
     "name": "stdout",
     "output_type": "stream",
     "text": [
      "Interquartile Range (IQR) for ConvertedComp: 73132.0\n"
     ]
    }
   ],
   "source": [
    "# your code goes here\n",
    "import numpy as np\n",
    "\n",
    "# Assuming df is your DataFrame and 'ConvertedComp' is the column\n",
    "convertedcomp_values = df['ConvertedComp'].dropna()  # Drop NaN values if any\n",
    "\n",
    "# Calculate the first quartile (Q1)\n",
    "q1 = np.percentile(convertedcomp_values, 25)\n",
    "\n",
    "# Calculate the third quartile (Q3)\n",
    "q3 = np.percentile(convertedcomp_values, 75)\n",
    "\n",
    "# Calculate the Interquartile Range (IQR)\n",
    "iqr = q3 - q1\n",
    "\n",
    "print(\"Interquartile Range (IQR) for ConvertedComp:\", iqr)\n"
   ]
  },
  {
   "cell_type": "markdown",
   "metadata": {},
   "source": [
    "Find out the upper and lower bounds.\n"
   ]
  },
  {
   "cell_type": "code",
   "execution_count": 24,
   "metadata": {
    "tags": []
   },
   "outputs": [
    {
     "name": "stdout",
     "output_type": "stream",
     "text": [
      "Lower Bound for ConvertedComp: -82830.0\n",
      "Upper Bound for ConvertedComp: 209698.0\n"
     ]
    }
   ],
   "source": [
    "# your code goes here\n",
    "import numpy as np\n",
    "\n",
    "\n",
    "convertedcomp_values = df['ConvertedComp'].dropna() \n",
    "q1 = np.percentile(convertedcomp_values, 25)\n",
    "\n",
    "q3 = np.percentile(convertedcomp_values, 75)\n",
    "\n",
    "iqr = q3 - q1\n",
    "\n",
    "lower_bound = q1 - 1.5 * iqr\n",
    "upper_bound = q3 + 1.5 * iqr\n",
    "\n",
    "print(\"Lower Bound for ConvertedComp:\", lower_bound)\n",
    "print(\"Upper Bound for ConvertedComp:\", upper_bound)\n"
   ]
  },
  {
   "cell_type": "markdown",
   "metadata": {},
   "source": [
    "Identify how many outliers are there in the `ConvertedComp` column.\n"
   ]
  },
  {
   "cell_type": "code",
   "execution_count": 25,
   "metadata": {
    "tags": []
   },
   "outputs": [
    {
     "name": "stdout",
     "output_type": "stream",
     "text": [
      "Number of outliers in ConvertedComp: 879\n"
     ]
    }
   ],
   "source": [
    "# your code goes here\n",
    "import numpy as np\n",
    "\n",
    "# Assuming df is your DataFrame and 'ConvertedComp' is the column\n",
    "convertedcomp_values = df['ConvertedComp'].dropna()  # Drop NaN values if any\n",
    "\n",
    "# Calculate the first quartile (Q1)\n",
    "q1 = np.percentile(convertedcomp_values, 25)\n",
    "\n",
    "# Calculate the third quartile (Q3)\n",
    "q3 = np.percentile(convertedcomp_values, 75)\n",
    "\n",
    "# Calculate the Interquartile Range (IQR)\n",
    "iqr = q3 - q1\n",
    "\n",
    "# Calculate lower and upper bounds\n",
    "lower_bound = q1 - 1.5 * iqr\n",
    "upper_bound = q3 + 1.5 * iqr\n",
    "\n",
    "# Identify outliers\n",
    "outliers = (convertedcomp_values < lower_bound) | (convertedcomp_values > upper_bound)\n",
    "\n",
    "# Count the number of outliers\n",
    "num_outliers = outliers.sum()\n",
    "\n",
    "print(\"Number of outliers in ConvertedComp:\", num_outliers)\n",
    "\n"
   ]
  },
  {
   "cell_type": "code",
   "execution_count": 32,
   "metadata": {
    "tags": []
   },
   "outputs": [
    {
     "name": "stdout",
     "output_type": "stream",
     "text": [
      "Median ConvertedComp after removing outliers: 52704.0\n"
     ]
    }
   ],
   "source": [
    "# Assuming df_no_outliers is your DataFrame without outliers\n",
    "median_comp_no_outliers = df_no_outliers['ConvertedComp'].median()\n",
    "\n",
    "print(\"Median ConvertedComp after removing outliers:\", median_comp_no_outliers)\n"
   ]
  },
  {
   "cell_type": "code",
   "execution_count": 34,
   "metadata": {
    "tags": []
   },
   "outputs": [
    {
     "name": "stdout",
     "output_type": "stream",
     "text": [
      "Mean ConvertedComp after removing outliers: 59883.20838915799\n"
     ]
    }
   ],
   "source": [
    "# Assuming df_no_outliers is your DataFrame without outliers\n",
    "mean_comp_no_outliers = df_no_outliers['ConvertedComp'].mean()\n",
    "\n",
    "print(\"Mean ConvertedComp after removing outliers:\", mean_comp_no_outliers)\n"
   ]
  },
  {
   "cell_type": "markdown",
   "metadata": {},
   "source": [
    "Create a new dataframe by removing the outliers from the `ConvertedComp` column.\n"
   ]
  },
  {
   "cell_type": "code",
   "execution_count": 26,
   "metadata": {
    "tags": []
   },
   "outputs": [
    {
     "name": "stdout",
     "output_type": "stream",
     "text": [
      "      Respondent                      MainBranch Hobbyist  \\\n",
      "0              4  I am a developer by profession       No   \n",
      "1              9  I am a developer by profession      Yes   \n",
      "2             13  I am a developer by profession      Yes   \n",
      "3             17  I am a developer by profession      Yes   \n",
      "4             19  I am a developer by profession      Yes   \n",
      "...          ...                             ...      ...   \n",
      "9698       25134  I am a developer by profession      Yes   \n",
      "9699       25136  I am a developer by profession      Yes   \n",
      "9700       25137  I am a developer by profession      Yes   \n",
      "9701       25138  I am a developer by profession      Yes   \n",
      "9702       25141  I am a developer by profession      Yes   \n",
      "\n",
      "                                            OpenSourcer  \\\n",
      "0                                                 Never   \n",
      "1                            Once a month or more often   \n",
      "2     Less than once a month but more than once per ...   \n",
      "3     Less than once a month but more than once per ...   \n",
      "4                                                 Never   \n",
      "...                                                 ...   \n",
      "9698  Less than once a month but more than once per ...   \n",
      "9699                                              Never   \n",
      "9700                                              Never   \n",
      "9701                            Less than once per year   \n",
      "9702  Less than once a month but more than once per ...   \n",
      "\n",
      "                                             OpenSource          Employment  \\\n",
      "0     The quality of OSS and closed source software ...  Employed full-time   \n",
      "1     The quality of OSS and closed source software ...  Employed full-time   \n",
      "2     OSS is, on average, of HIGHER quality than pro...  Employed full-time   \n",
      "3     The quality of OSS and closed source software ...  Employed full-time   \n",
      "4     The quality of OSS and closed source software ...  Employed full-time   \n",
      "...                                                 ...                 ...   \n",
      "9698  OSS is, on average, of HIGHER quality than pro...  Employed full-time   \n",
      "9699  OSS is, on average, of HIGHER quality than pro...  Employed full-time   \n",
      "9700  The quality of OSS and closed source software ...  Employed full-time   \n",
      "9701  The quality of OSS and closed source software ...  Employed full-time   \n",
      "9702  OSS is, on average, of LOWER quality than prop...  Employed full-time   \n",
      "\n",
      "            Country Student  \\\n",
      "0     United States      No   \n",
      "1       New Zealand      No   \n",
      "2     United States      No   \n",
      "3         Australia      No   \n",
      "4            Brazil      No   \n",
      "...             ...     ...   \n",
      "9698        Ecuador      No   \n",
      "9699  United States      No   \n",
      "9700         Poland      No   \n",
      "9701  United States      No   \n",
      "9702    Switzerland      No   \n",
      "\n",
      "                                                EdLevel  \\\n",
      "0              Bachelor’s degree (BA, BS, B.Eng., etc.)   \n",
      "1     Some college/university study without earning ...   \n",
      "2           Master’s degree (MA, MS, M.Eng., MBA, etc.)   \n",
      "3              Bachelor’s degree (BA, BS, B.Eng., etc.)   \n",
      "4     Some college/university study without earning ...   \n",
      "...                                                 ...   \n",
      "9698           Bachelor’s degree (BA, BS, B.Eng., etc.)   \n",
      "9699        Master’s degree (MA, MS, M.Eng., MBA, etc.)   \n",
      "9700        Master’s degree (MA, MS, M.Eng., MBA, etc.)   \n",
      "9701        Master’s degree (MA, MS, M.Eng., MBA, etc.)   \n",
      "9702  Secondary school (e.g. American high school, G...   \n",
      "\n",
      "                                         UndergradMajor  ...  \\\n",
      "0     Computer science, computer engineering, or sof...  ...   \n",
      "1     Computer science, computer engineering, or sof...  ...   \n",
      "2     Computer science, computer engineering, or sof...  ...   \n",
      "3     Computer science, computer engineering, or sof...  ...   \n",
      "4     Computer science, computer engineering, or sof...  ...   \n",
      "...                                                 ...  ...   \n",
      "9698  Computer science, computer engineering, or sof...  ...   \n",
      "9699  Computer science, computer engineering, or sof...  ...   \n",
      "9700  Computer science, computer engineering, or sof...  ...   \n",
      "9701  Computer science, computer engineering, or sof...  ...   \n",
      "9702                                                NaN  ...   \n",
      "\n",
      "                                 WelcomeChange  \\\n",
      "0      Just as welcome now as I felt last year   \n",
      "1      Just as welcome now as I felt last year   \n",
      "2     Somewhat more welcome now than last year   \n",
      "3      Just as welcome now as I felt last year   \n",
      "4      Just as welcome now as I felt last year   \n",
      "...                                        ...   \n",
      "9698  Somewhat less welcome now than last year   \n",
      "9699   Just as welcome now as I felt last year   \n",
      "9700     A lot more welcome now than last year   \n",
      "9701     A lot more welcome now than last year   \n",
      "9702  Somewhat less welcome now than last year   \n",
      "\n",
      "                                           SONewContent   Age Gender Trans  \\\n",
      "0     Tech articles written by other developers;Indu...  22.0    Man    No   \n",
      "1                                                   NaN  23.0    Man    No   \n",
      "2     Tech articles written by other developers;Cour...  28.0    Man    No   \n",
      "3     Tech articles written by other developers;Indu...  29.0    Man    No   \n",
      "4     Tech articles written by other developers;Indu...  31.0    Man    No   \n",
      "...                                                 ...   ...    ...   ...   \n",
      "9698          Tech articles written by other developers  32.0    Man    No   \n",
      "9699  Tech articles written by other developers;Cour...  36.0    Man    No   \n",
      "9700  Tech articles written by other developers;Tech...  25.0    Man    No   \n",
      "9701  Tech articles written by other developers;Indu...  34.0    Man    No   \n",
      "9702                                                NaN  25.0    Man    No   \n",
      "\n",
      "                    Sexuality                              Ethnicity  \\\n",
      "0     Straight / Heterosexual           White or of European descent   \n",
      "1                    Bisexual           White or of European descent   \n",
      "2     Straight / Heterosexual           White or of European descent   \n",
      "3     Straight / Heterosexual  Hispanic or Latino/Latina;Multiracial   \n",
      "4     Straight / Heterosexual              Hispanic or Latino/Latina   \n",
      "...                       ...                                    ...   \n",
      "9698  Straight / Heterosexual              Hispanic or Latino/Latina   \n",
      "9699  Straight / Heterosexual           White or of European descent   \n",
      "9700  Straight / Heterosexual           White or of European descent   \n",
      "9701  Straight / Heterosexual           White or of European descent   \n",
      "9702  Straight / Heterosexual           White or of European descent   \n",
      "\n",
      "     Dependents           SurveyLength                  SurveyEase  \n",
      "0            No  Appropriate in length                        Easy  \n",
      "1            No  Appropriate in length  Neither easy nor difficult  \n",
      "2           Yes  Appropriate in length                        Easy  \n",
      "3            No  Appropriate in length                        Easy  \n",
      "4           Yes               Too long                        Easy  \n",
      "...         ...                    ...                         ...  \n",
      "9698         No  Appropriate in length                        Easy  \n",
      "9699         No  Appropriate in length                   Difficult  \n",
      "9700         No  Appropriate in length  Neither easy nor difficult  \n",
      "9701        Yes               Too long                        Easy  \n",
      "9702         No  Appropriate in length                        Easy  \n",
      "\n",
      "[9703 rows x 85 columns]\n"
     ]
    }
   ],
   "source": [
    "# your code goes here\n",
    "import pandas as pd\n",
    "import numpy as np\n",
    "\n",
    "# Assuming df is your original DataFrame and 'ConvertedComp' is the column\n",
    "convertedcomp_values = df['ConvertedComp'].dropna()  # Drop NaN values if any\n",
    "\n",
    "# Calculate the first quartile (Q1)\n",
    "q1 = np.percentile(convertedcomp_values, 25)\n",
    "\n",
    "# Calculate the third quartile (Q3)\n",
    "q3 = np.percentile(convertedcomp_values, 75)\n",
    "\n",
    "# Calculate the Interquartile Range (IQR)\n",
    "iqr = q3 - q1\n",
    "\n",
    "# Calculate lower and upper bounds\n",
    "lower_bound = q1 - 1.5 * iqr\n",
    "upper_bound = q3 + 1.5 * iqr\n",
    "\n",
    "# Create a new DataFrame without outliers\n",
    "df_no_outliers = df[(df['ConvertedComp'] >= lower_bound) & (df['ConvertedComp'] <= upper_bound)]\n",
    "\n",
    "# Optional: Reset index if needed\n",
    "df_no_outliers.reset_index(drop=True, inplace=True)\n",
    "\n",
    "# Display the new DataFrame without outliers\n",
    "print(df_no_outliers)\n"
   ]
  },
  {
   "cell_type": "markdown",
   "metadata": {},
   "source": [
    "## Correlation\n"
   ]
  },
  {
   "cell_type": "markdown",
   "metadata": {},
   "source": [
    "### Finding correlation\n"
   ]
  },
  {
   "cell_type": "markdown",
   "metadata": {},
   "source": [
    "Find the correlation between `Age` and all other numerical columns.\n"
   ]
  },
  {
   "cell_type": "code",
   "execution_count": 27,
   "metadata": {
    "tags": []
   },
   "outputs": [
    {
     "name": "stdout",
     "output_type": "stream",
     "text": [
      "Correlation between Age and other numerical columns:\n",
      "Respondent       0.004041\n",
      "CompTotal        0.006970\n",
      "ConvertedComp    0.105386\n",
      "WorkWeekHrs      0.036518\n",
      "CodeRevHrs      -0.020469\n",
      "Age              1.000000\n",
      "dtype: float64\n"
     ]
    }
   ],
   "source": [
    "# your code goes here\n",
    "import pandas as pd\n",
    "\n",
    "# Assuming df is your DataFrame\n",
    "correlation_matrix = df.corrwith(df['Age'])\n",
    "\n",
    "# Display the correlation matrix\n",
    "print(\"Correlation between Age and other numerical columns:\")\n",
    "print(correlation_matrix)\n"
   ]
  },
  {
   "cell_type": "markdown",
   "metadata": {},
   "source": [
    "## Authors\n"
   ]
  },
  {
   "cell_type": "markdown",
   "metadata": {},
   "source": [
    "Ramesh Sannareddy\n"
   ]
  },
  {
   "cell_type": "markdown",
   "metadata": {},
   "source": [
    "### Other Contributors\n"
   ]
  },
  {
   "cell_type": "markdown",
   "metadata": {},
   "source": [
    "Rav Ahuja\n"
   ]
  },
  {
   "cell_type": "markdown",
   "metadata": {},
   "source": [
    "## Change Log\n"
   ]
  },
  {
   "cell_type": "markdown",
   "metadata": {},
   "source": [
    "| Date (YYYY-MM-DD) | Version | Changed By        | Change Description                 |\n",
    "| ----------------- | ------- | ----------------- | ---------------------------------- |\n",
    "| 2020-10-17        | 0.1     | Ramesh Sannareddy | Created initial version of the lab |\n"
   ]
  },
  {
   "cell_type": "markdown",
   "metadata": {},
   "source": [
    " Copyright © 2020 IBM Corporation. This notebook and its source code are released under the terms of the [MIT License](https://cognitiveclass.ai/mit-license?utm_medium=Exinfluencer&utm_source=Exinfluencer&utm_content=000026UJ&utm_term=10006555&utm_id=NA-SkillsNetwork-Channel-SkillsNetworkCoursesIBMDA0321ENSkillsNetwork928-2023-01-01&cm_mmc=Email_Newsletter-_-Developer_Ed%2BTech-_-WW_WW-_-SkillsNetwork-Courses-IBM-DA0321EN-SkillsNetwork-21426264&cm_mmca1=000026UJ&cm_mmca2=10006555&cm_mmca3=M12345678&cvosrc=email.Newsletter.M12345678&cvo_campaign=000026UJ).\n"
   ]
  }
 ],
 "metadata": {
  "kernelspec": {
   "display_name": "Python",
   "language": "python",
   "name": "conda-env-python-py"
  },
  "language_info": {
   "codemirror_mode": {
    "name": "ipython",
    "version": 3
   },
   "file_extension": ".py",
   "mimetype": "text/x-python",
   "name": "python",
   "nbconvert_exporter": "python",
   "pygments_lexer": "ipython3",
   "version": "3.7.12"
  }
 },
 "nbformat": 4,
 "nbformat_minor": 4
}
